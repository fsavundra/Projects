{
 "cells": [
  {
   "cell_type": "markdown",
   "metadata": {},
   "source": [
    "[DIY Covid-19 Dashboard Kit](https://github.com/fsavundra/Projects) (C) Freddie Savundra, 2020 ([f.savundra@se20.qmul.ac.uk](mailto:f.savundra@se20.qmul.ac.uk) - [web](https://www.linkedin.com/in/freddie-savundra-729679131/?originalSubdomain=uk)). All rights reserved."
   ]
  },
  {
   "cell_type": "markdown",
   "metadata": {},
   "source": [
    "# Covid-19 Dashboard"
   ]
  },
  {
   "cell_type": "markdown",
   "metadata": {},
   "source": [
    "The dashboard attached below references two statistics that have been examined in this dashboard. In the first instance, we examine the relationship between the number of hospital cases and the number of deaths over a 28 day period. In the second instance, we examine the number of hospital admissions and the relationship between the number of ventilators issued."
   ]
  },
  {
   "cell_type": "code",
   "execution_count": 31,
   "metadata": {},
   "outputs": [],
   "source": [
    "!pip3 install -r requirements.txt &> /dev/null"
   ]
  },
  {
   "cell_type": "code",
   "execution_count": 32,
   "metadata": {},
   "outputs": [],
   "source": [
    "import ipywidgets as wdg\n",
    "import pandas as pd\n",
    "import numpy as np\n",
    "import matplotlib.pyplot as plt\n",
    "import json\n",
    "from uk_covid19 import Cov19API"
   ]
  },
  {
   "cell_type": "code",
   "execution_count": 33,
   "metadata": {},
   "outputs": [],
   "source": [
    "%matplotlib inline\n",
    "# make figures larger\n",
    "plt.rcParams['figure.dpi'] = 100"
   ]
  },
  {
   "cell_type": "markdown",
   "metadata": {},
   "source": [
    "## Relationship between the number of cases and death rates"
   ]
  },
  {
   "cell_type": "code",
   "execution_count": 34,
   "metadata": {},
   "outputs": [],
   "source": [
    "# Get the age distribution and save it at agedistribution.json\n",
    "def getAgeDistribution():\n",
    "    filters = [\n",
    "        'areaType=nation',\n",
    "        'areaName=England'\n",
    "    ]\n",
    "    # values here are the names of the PHE metrics\n",
    "    structure = {\n",
    "         \"date\": \"date\",\n",
    "         \"admissions\": \"newAdmissions\",\n",
    "         \"ventilators\": \"covidOccupiedMVBeds\"\n",
    "    }\n",
    "    api = Cov19API(filters=filters, structure=structure)\n",
    "    agedistribution=api.get_json()\n",
    "    with open(\"agedistribution.json\", \"wt\") as OUTF:\n",
    "        json.dump(agedistribution, OUTF)"
   ]
  },
  {
   "cell_type": "code",
   "execution_count": 35,
   "metadata": {},
   "outputs": [],
   "source": [
    "# Get the timeSeries and save it at timeseries.json\n",
    "def getTimeSeries():\n",
    "    filters = [\n",
    "        'areaType=nation',\n",
    "        'areaName=England'\n",
    "    ]\n",
    "    structure = {\n",
    "        \"date\": \"date\",\n",
    "        \"cases\": \"hospitalCases\",\n",
    "        \"deaths\": \"newDeaths28DaysByDeathDate\"    \n",
    "    }\n",
    "    api = Cov19API(filters=filters, structure=structure)\n",
    "    timeseries=api.get_json()\n",
    "    with open(\"timeseries.json\", \"wt\") as OUTF:\n",
    "        json.dump(timeseries, OUTF)"
   ]
  },
  {
   "cell_type": "code",
   "execution_count": 36,
   "metadata": {},
   "outputs": [],
   "source": [
    "# Convert a date string into a pandas datetime object\n",
    "def parse_date(datestring):\n",
    "    return pd.to_datetime(datestring, format=\"%Y-%m-%d\")"
   ]
  },
  {
   "cell_type": "code",
   "execution_count": 37,
   "metadata": {},
   "outputs": [],
   "source": [
    "# Process the data and sorting the dates based on timeseries.json value.\n",
    "def processTimeSeriesData():\n",
    "    \n",
    "    with open(\"timeseries.json\", \"rt\") as INFILE:\n",
    "        data=json.load(INFILE)\n",
    "        \n",
    "    print(\"timeseries.json Last Update: \")\n",
    "    print(data['lastUpdate']);\n",
    "    \n",
    "    datalist=data['data']\n",
    "    dates=[dictionary['date'] for dictionary in datalist ]\n",
    "    dates.sort()\n",
    "    \n",
    "    startdate=parse_date(dates[0])\n",
    "    enddate=parse_date(dates[-1])\n",
    "    \n",
    "    index=pd.date_range(startdate, enddate, freq='D')\n",
    "    timeseriesdf=pd.DataFrame(index=index, columns=['cases', 'deaths',])\n",
    "    \n",
    "    for entry in datalist: # each entry is a dictionary with date, cases, hospital and deaths\n",
    "        date=parse_date(entry['date'])\n",
    "        for column in ['cases', 'deaths']:\n",
    "            # check that nothing is there yet - just in case some dates are duplicated,\n",
    "            # maybe with data for different columns in each entry\n",
    "            if pd.isna(timeseriesdf.loc[date, column]): \n",
    "                # replace None with 0 in our data \n",
    "                value= float(entry[column]) if entry[column]!=None else 0.0\n",
    "                # this is the way you access a specific location in the dataframe - use .loc\n",
    "                # and put index,column in a single set of [ ]\n",
    "                timeseriesdf.loc[date, column]=value\n",
    "            \n",
    "    # fill in any remaining \"holes\" due to missing dates\n",
    "    timeseriesdf.fillna(0.0, inplace=True)\n",
    "    timeseriesdf.to_pickle(\"timeseriesdf.pkl\")"
   ]
  },
  {
   "cell_type": "code",
   "execution_count": 38,
   "metadata": {},
   "outputs": [],
   "source": [
    "# Process the data and sorting the dates based on agedistribution.json value.\n",
    "def processAgeDistributionData():\n",
    "    with open(\"agedistribution.json\", \"rt\") as INFILE:\n",
    "        data=json.load(INFILE)\n",
    "    \n",
    "    print(\"agedistribution.json Last Update: \")\n",
    "    print(data['lastUpdate']);\n",
    "    \n",
    "    datalist=data['data']\n",
    "    dates=[dictionary['date'] for dictionary in datalist ]\n",
    "    dates.sort()\n",
    "    \n",
    "    startdate=parse_date(dates[0])\n",
    "    enddate=parse_date(dates[-1])\n",
    "    \n",
    "    index=pd.date_range(startdate, enddate, freq='D')\n",
    "    agedistributiondf=pd.DataFrame(index=index, columns=['admissions', 'ventilators'])\n",
    "    \n",
    "    for entry in datalist: # each entry is a dictionary with date, cases, hospital and deaths\n",
    "        date=parse_date(entry['date'])\n",
    "        for column in ['admissions', 'ventilators']:\n",
    "            # check that nothing is there yet - just in case some dates are duplicated,\n",
    "            # maybe with data for different columns in each entry\n",
    "            if pd.isna(agedistributiondf.loc[date, column]): \n",
    "                # replace None with 0 in our data \n",
    "                value= float(entry[column]) if entry[column]!=None else 0.0\n",
    "                # this is the way you access a specific location in the dataframe - use .loc\n",
    "                # and put index,column in a single set of [ ]\n",
    "                agedistributiondf.loc[date, column]=value\n",
    "            \n",
    "    # fill in any remaining \"holes\" due to missing dates\n",
    "    agedistributiondf.fillna(0.0, inplace=True)\n",
    "    agedistributiondf.to_pickle(\"agedistributiondf.pkl\")"
   ]
  },
  {
   "cell_type": "code",
   "execution_count": 39,
   "metadata": {},
   "outputs": [
    {
     "data": {
      "application/vnd.jupyter.widget-view+json": {
       "model_id": "22a73b8c008e4e3891e7b1732270eb03",
       "version_major": 2,
       "version_minor": 0
      },
      "text/plain": [
       "Button(description='Refresh', icon='download', style=ButtonStyle(), tooltip='Click to download current Public …"
      ]
     },
     "metadata": {},
     "output_type": "display_data"
    },
    {
     "ename": "NameError",
     "evalue": "name 'pleaseWait1' is not defined",
     "output_type": "error",
     "traceback": [
      "\u001b[0;31m---------------------------------------------------------------------------\u001b[0m",
      "\u001b[0;31mNameError\u001b[0m                                 Traceback (most recent call last)",
      "\u001b[0;32m<ipython-input-39-3a5b60bc4884>\u001b[0m in \u001b[0;36m<module>\u001b[0;34m\u001b[0m\n\u001b[1;32m     28\u001b[0m \u001b[0mrefreshUpdate\u001b[0m \u001b[0;34m=\u001b[0m \u001b[0mwdg\u001b[0m\u001b[0;34m.\u001b[0m\u001b[0mLabel\u001b[0m\u001b[0;34m(\u001b[0m\u001b[0;34m)\u001b[0m\u001b[0;34m\u001b[0m\u001b[0;34m\u001b[0m\u001b[0m\n\u001b[1;32m     29\u001b[0m \u001b[0mdisplay\u001b[0m\u001b[0;34m(\u001b[0m\u001b[0mapibutton\u001b[0m\u001b[0;34m)\u001b[0m\u001b[0;34m\u001b[0m\u001b[0;34m\u001b[0m\u001b[0m\n\u001b[0;32m---> 30\u001b[0;31m \u001b[0mdisplay\u001b[0m\u001b[0;34m(\u001b[0m\u001b[0mpleaseWait1\u001b[0m\u001b[0;34m)\u001b[0m\u001b[0;34m\u001b[0m\u001b[0;34m\u001b[0m\u001b[0m\n\u001b[0m\u001b[1;32m     31\u001b[0m \u001b[0mdisplay\u001b[0m\u001b[0;34m(\u001b[0m\u001b[0mrefreshUpdate1\u001b[0m\u001b[0;34m)\u001b[0m\u001b[0;34m\u001b[0m\u001b[0;34m\u001b[0m\u001b[0m\n\u001b[1;32m     32\u001b[0m \u001b[0;34m\u001b[0m\u001b[0m\n",
      "\u001b[0;31mNameError\u001b[0m: name 'pleaseWait1' is not defined"
     ]
    }
   ],
   "source": [
    "# our API access function. This will be called by the button when it is clicked\n",
    "def access_api(button):\n",
    "    # Ignore the parameter, put code for polling the API here\n",
    "    pleaseWait1.value = \"Please wait while I reach out to the Government Statistics Page...\"\n",
    "    getTimeSeries()\n",
    "    processTimeSeriesData()\n",
    "    refreshUpdate1.value = \"...The Dashboard has successfully refreshed.\"\n",
    "    # keep calling timeseries_graph(gcols=value_of_series, gscale=value_of_scale); capture output in variable graph   \n",
    "    graph=wdg.interactive_output(timeseries_graph, {'gcols': series, 'gscale': scale})\n",
    "    display(controls, graph)\n",
    "    \n",
    "# see the doc for the parameters    \n",
    "apibutton=wdg.Button(\n",
    "    description='Refresh',\n",
    "    disabled=False,\n",
    "    button_style='', # 'success', 'info', 'warning', 'danger' or ''\n",
    "    tooltip='Click to download current Public Health England data',\n",
    "    icon='download' # (FontAwesome names without the `fa-` prefix)\n",
    ")\n",
    "\n",
    "# register the callback function with the button\n",
    "apibutton.on_click(access_api)\n",
    "\n",
    "# this is an iPython function that generalises print for Jupyter Notebooks; we use it to \n",
    "# display the widgets\n",
    "\n",
    "pleaseWait1 = wdg.Label()\n",
    "refreshUpdate1 = wdg.Label()\n",
    "display(apibutton)\n",
    "display(pleaseWait1)\n",
    "display(refreshUpdate1)\n",
    "\n",
    "getTimeSeries()\n",
    "processTimeSeriesData()\n",
    "\n",
    "timeseriesdf = pd.read_pickle(\"timeseriesdf.pkl\")\n",
    "\n",
    "series=wdg.SelectMultiple(\n",
    "    options=['cases', 'deaths'],\n",
    "    value=['cases', 'deaths'],\n",
    "    rows=2,\n",
    "    description='Stats:',\n",
    "    disabled=False\n",
    ")\n",
    "\n",
    "scale=wdg.RadioButtons(\n",
    "    options=['linear', 'log'],\n",
    "#    value='pineapple', # Defaults to 'pineapple'\n",
    "#    layout={'width': 'max-content'}, # If the items' names are long\n",
    "    description='Scale:',\n",
    "    disabled=False\n",
    ")\n",
    "\n",
    "# try replacing HBox with a VBox\n",
    "controls=wdg.HBox([series, scale])\n",
    "\n",
    "def timeseries_graph(gcols, gscale):\n",
    "    if gscale=='linear':\n",
    "        logscale=False\n",
    "    else:\n",
    "        logscale=True\n",
    "    \n",
    "    ncols=len(gcols)    \n",
    "    if ncols>0:\n",
    "        timeseriesdf[list(gcols)].plot(logy=logscale)\n",
    "    else:\n",
    "        print(\"Click to select data for graph\")\n",
    "        print(\"(CTRL-Click to select more than one category)\")\n",
    "\n",
    "# keep calling timeseries_graph(gcols=value_of_series, gscale=value_of_scale); capture output in variable graph   \n",
    "graph=wdg.interactive_output(timeseries_graph, {'gcols': series, 'gscale': scale})\n",
    "display(controls, graph)"
   ]
  },
  {
   "cell_type": "markdown",
   "metadata": {},
   "source": [
    "## Relationship between Hospital Admissions and Ventilators Issued"
   ]
  },
  {
   "cell_type": "code",
   "execution_count": 29,
   "metadata": {},
   "outputs": [
    {
     "data": {
      "application/vnd.jupyter.widget-view+json": {
       "model_id": "6e9346972c6e4a02b9aae428c9e39ec2",
       "version_major": 2,
       "version_minor": 0
      },
      "text/plain": [
       "HBox(children=(SelectMultiple(description='Stats:', index=(0, 1), options=('admissions', 'ventilators'), rows=…"
      ]
     },
     "metadata": {},
     "output_type": "display_data"
    },
    {
     "data": {
      "application/vnd.jupyter.widget-view+json": {
       "model_id": "8843bec444a746bb849bc4092cc12602",
       "version_major": 2,
       "version_minor": 0
      },
      "text/plain": [
       "Output()"
      ]
     },
     "metadata": {},
     "output_type": "display_data"
    }
   ],
   "source": [
    "# our API access function. This will be called by the button when it is clicked\n",
    "def access_api(button):\n",
    "    # Ignore the parameter, put code for polling the API here\n",
    "    pleaseWait.value = \"Please wait while I reach out to the Government Statistics Page...\"\n",
    "    getAgeDistribution2()\n",
    "    processAgeDistributionData2()\n",
    "    refreshUpdate.value = \"...The Dashboard has successfully refreshed.\"\n",
    "    graph=wdg.interactive_output(agedistribution_graph, {'gcols': series, 'gscale': scale})\n",
    "    display(controls, graph)\n",
    "    \n",
    "# see the doc for the parameters    \n",
    "apibutton=wdg.Button(\n",
    "    description='Refresh',\n",
    "    disabled=False,\n",
    "    button_style='', # 'success', 'info', 'warning', 'danger' or ''\n",
    "    tooltip='Click to download current Public Health England data',\n",
    "    icon='download' # (FontAwesome names without the `fa-` prefix)\n",
    ")\n",
    "\n",
    "# register the callback function with the button\n",
    "apibutton.on_click(access_api)\n",
    "\n",
    "# this is an iPython function that generalises print for Jupyter Notebooks; we use it to \n",
    "# display the widgets\n",
    "\n",
    "pleaseWait2 = wdg.Label()\n",
    "refreshUpdate2 = wdg.Label()\n",
    "display(apibutton)\n",
    "display(pleaseWait2)\n",
    "display(refreshUpdate2)\n",
    "\n",
    "getAgeDistribution2()\n",
    "processAgeDistributionData2()\n",
    "agedistributiondf=pd.read_pickle(\"agedistributiondf.pkl\")\n",
    "series=wdg.SelectMultiple(\n",
    "    options=['admissions', 'ventilators'],\n",
    "    value=['admissions', 'ventilators'],\n",
    "    rows=2,\n",
    "    description='Stats:',\n",
    "    disabled=False\n",
    ")\n",
    "\n",
    "scale=wdg.RadioButtons(\n",
    "    options=['linear', 'log'],\n",
    "#    value='pineapple', # Defaults to 'pineapple'\n",
    "#    layout={'width': 'max-content'}, # If the items' names are long\n",
    "    description='Scale:',\n",
    "    disabled=False\n",
    ")\n",
    "\n",
    "# try replacing HBox with a VBox\n",
    "controls=wdg.HBox([series, scale])\n",
    "\n",
    "def agedistribution_graph(gcols, gscale):\n",
    "    if gscale=='linear':\n",
    "        logscale=False\n",
    "    else:\n",
    "        logscale=True\n",
    "    ncols=len(gcols)\n",
    "    if ncols>0:\n",
    "        agedistributiondf[list(gcols)].plot(logy=logscale)\n",
    "    else:\n",
    "        print(\"Click to select data for graph\")\n",
    "        print(\"(CTRL-Click to select more than one category)\")\n",
    "\n",
    "# keep calling timeseries_graph(gcols=value_of_series, gscale=value_of_scale); capture output in variable graph   \n",
    "graph=wdg.interactive_output(agedistribution_graph, {'gcols': series, 'gscale': scale})\n",
    "display(controls, graph)"
   ]
  },
  {
   "cell_type": "markdown",
   "metadata": {},
   "source": [
    "[DIY Covid-19 Dashboard Kit](https://github.com/fsavundra/Projects) (C) Freddie Savundra, 2020 ([f.savundra@se20.qmul.ac.uk](mailto:f.savundra@se20.qmul.ac.uk) - [web](https://www.linkedin.com/in/freddie-savundra-729679131/?originalSubdomain=uk)). All rights reserved. Based on UK Government data published by Public Health England."
   ]
  },
  {
   "cell_type": "code",
   "execution_count": null,
   "metadata": {},
   "outputs": [],
   "source": []
  }
 ],
 "metadata": {
  "kernelspec": {
   "display_name": "Python 3",
   "language": "python",
   "name": "python3"
  },
  "language_info": {
   "codemirror_mode": {
    "name": "ipython",
    "version": 3
   },
   "file_extension": ".py",
   "mimetype": "text/x-python",
   "name": "python",
   "nbconvert_exporter": "python",
   "pygments_lexer": "ipython3",
   "version": "3.8.5"
  }
 },
 "nbformat": 4,
 "nbformat_minor": 4
}
